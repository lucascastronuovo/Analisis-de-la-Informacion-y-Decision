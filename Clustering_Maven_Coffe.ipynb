{
 "cells": [
  {
   "cell_type": "markdown",
   "id": "946a0da8",
   "metadata": {},
   "source": [
    "# Clustering K-Means"
   ]
  },
  {
   "cell_type": "markdown",
   "id": "2fef6ceb",
   "metadata": {},
   "source": [
    "## Importar librerías"
   ]
  },
  {
   "cell_type": "code",
   "execution_count": null,
   "id": "28937a85",
   "metadata": {},
   "outputs": [],
   "source": [
    "import numpy as np ##cálculos científicos\n",
    "import pandas as pd ## analisis de datos\n",
    "import matplotlib.pyplot as plt ## creacion de graficos\n",
    "import seaborn as sns ## creacion de graficos\n",
    "from sklearn.preprocessing import LabelEncoder #Para convertir en variables numéricas\n",
    "from sklearn.cluster import KMeans ## para clustering con K-means\n",
    "\n",
    "\n",
    "%matplotlib inline"
   ]
  },
  {
   "cell_type": "markdown",
   "id": "4210c69a",
   "metadata": {},
   "source": [
    "## Importar datos"
   ]
  },
  {
   "cell_type": "code",
   "execution_count": null,
   "id": "86213c0f",
   "metadata": {},
   "outputs": [],
   "source": [
    "df = pd.read_csv(r'D:\\Lucas\\Universidad de Palermo\\4° Año\\2- Segundo Semestre\\Análisis de la Información y la Decisión\\TP Data Mining\\Dataset\\archive\\coffee-shop-sales-revenue.csv', delimiter = '|')"
   ]
  },
  {
   "cell_type": "code",
   "execution_count": null,
   "id": "4c602f86",
   "metadata": {},
   "outputs": [],
   "source": [
    "df"
   ]
  },
  {
   "cell_type": "markdown",
   "id": "0f03649a",
   "metadata": {},
   "source": [
    "## Simplificación  del análisis"
   ]
  },
  {
   "cell_type": "markdown",
   "id": "f1bfef2f",
   "metadata": {},
   "source": [
    "Convertimos la variable \"transaction_time\" en \"periodo\" para separando los horarios en \"Mañana\", \"Tarde\" y \"Noche\""
   ]
  },
  {
   "cell_type": "code",
   "execution_count": null,
   "id": "46e2ad15",
   "metadata": {},
   "outputs": [],
   "source": [
    "df_coffe = pd.DataFrame(df)\n",
    "\n",
    "df_coffe['transaction_time'] = df_coffe['transaction_time'].str.strip().str[:5]\n",
    "\n",
    "df_coffe['transaction_time'] = pd.to_datetime(df_coffe['transaction_time'], format='%H:%M').dt.time"
   ]
  },
  {
   "cell_type": "code",
   "execution_count": null,
   "id": "2e979448",
   "metadata": {},
   "outputs": [],
   "source": [
    "def categorize_time(time):\n",
    "    if time >= pd.to_datetime('06:00').time() and time < pd.to_datetime('12:00').time():\n",
    "        return 'Mañana'\n",
    "    elif time >= pd.to_datetime('12:00').time() and time < pd.to_datetime('18:00').time():\n",
    "        return 'Tarde'\n",
    "    else:\n",
    "        return 'Noche'\n",
    "\n",
    "# Aplicamos la función a la columna transaction_time\n",
    "df_coffe['periodo'] = df_coffe['transaction_time'].apply(categorize_time)\n",
    "\n",
    "# Eliminamos la variable transaction_time\n",
    "df_coffe = df_coffe.drop(['transaction_time'], axis=1)"
   ]
  },
  {
   "cell_type": "markdown",
   "id": "69444be7",
   "metadata": {},
   "source": [
    "Convertimos la variable \"transaction_date\" en \"temporada\" para separando las estaciones en \"Otoño\", \"Invierno\", \"Primavera\" y \"Verano\""
   ]
  },
  {
   "cell_type": "code",
   "execution_count": null,
   "id": "5ef7c4d4",
   "metadata": {},
   "outputs": [],
   "source": [
    "df['transaction_date'] = pd.to_datetime(df['transaction_date'])\n",
    "\n",
    "def get_season(date):\n",
    "    if isinstance(date, pd.Timestamp):\n",
    "        month = date.month\n",
    "        day = date.day\n",
    "        \n",
    "        # Ajustar las estaciones según el día 21\n",
    "        if month == 9 and day >= 21 or month == 10 or month == 11 or (month == 12 and day < 21):\n",
    "            return 'Otoño'\n",
    "        elif month == 12 and day >= 21 or month == 1 or month == 2 or (month == 3 and day < 21):\n",
    "            return 'Invierno'\n",
    "        elif month == 3 and day >= 21 or month == 4 or month == 5 or (month == 6 and day < 21):\n",
    "            return 'Primavera'\n",
    "        elif month == 6 and day >= 21 or month == 7 or month == 8 or (month == 9 and day < 21):\n",
    "            return 'Verano'  \n",
    "    return None  \n",
    "\n",
    "# Creamos la columna \"temporada\" aplicando la función a la columna \"transaction_date\"\n",
    "df_coffe['temporada'] = df['transaction_date'].apply(get_season)\n",
    "\n",
    "# Eliminamos la variable \"transaction_date\"\n",
    "df_coffe = df_coffe.drop(['transaction_date'], axis=1)\n",
    "\n",
    "\n",
    "df_coffe\n"
   ]
  },
  {
   "cell_type": "code",
   "execution_count": null,
   "id": "ec244f30",
   "metadata": {},
   "outputs": [],
   "source": [
    "df_coffe.info()"
   ]
  },
  {
   "cell_type": "markdown",
   "id": "0bf23db2",
   "metadata": {},
   "source": [
    "Para realizar el clustering con K-means es necesario que las variables sean numéricas"
   ]
  },
  {
   "cell_type": "code",
   "execution_count": null,
   "id": "5e9cf917",
   "metadata": {},
   "outputs": [],
   "source": [
    "label_encoders = {}\n",
    "for column in df_coffe.select_dtypes(include=['object']).columns:\n",
    "    label_encoders[column] = LabelEncoder()\n",
    "    df_coffe[column] = label_encoders[column].fit_transform(df_coffe[column])"
   ]
  },
  {
   "cell_type": "code",
   "execution_count": null,
   "id": "1e3e020f",
   "metadata": {},
   "outputs": [],
   "source": [
    "df_coffe[df_coffe['transaction_id']==149456]"
   ]
  },
  {
   "cell_type": "markdown",
   "id": "c0e1f062",
   "metadata": {},
   "source": [
    "Quitamos las columnas \"id\" ya que pueden sesgar el análisis"
   ]
  },
  {
   "cell_type": "code",
   "execution_count": null,
   "id": "28409c07",
   "metadata": {},
   "outputs": [],
   "source": [
    "df_coffe = df_coffe.drop(['transaction_id', 'store_id', 'product_id'], axis=1)"
   ]
  },
  {
   "cell_type": "code",
   "execution_count": null,
   "id": "005776a7",
   "metadata": {},
   "outputs": [],
   "source": [
    "df_coffe"
   ]
  },
  {
   "cell_type": "markdown",
   "id": "ef7f85df",
   "metadata": {},
   "source": [
    "## Normalizamos los valores"
   ]
  },
  {
   "cell_type": "code",
   "execution_count": null,
   "id": "56be565a",
   "metadata": {},
   "outputs": [],
   "source": [
    "df_coffe.describe()"
   ]
  },
  {
   "cell_type": "code",
   "execution_count": null,
   "id": "85bab123",
   "metadata": {},
   "outputs": [],
   "source": [
    "df_coffe_norm = df_coffe.copy()\n",
    "df_coffe_norm = (df_coffe-df_coffe.min())/(df_coffe.max()-df_coffe.min())"
   ]
  },
  {
   "cell_type": "code",
   "execution_count": null,
   "id": "3841a88d",
   "metadata": {},
   "outputs": [],
   "source": [
    "df_coffe_norm.describe()"
   ]
  },
  {
   "cell_type": "markdown",
   "id": "0f055116",
   "metadata": {},
   "source": [
    "Todos los valores mínmos son igual a cero y todos los valores máximos son igual a 1"
   ]
  },
  {
   "cell_type": "markdown",
   "id": "3ba11c4c",
   "metadata": {},
   "source": [
    "## Búsqueda de la cantidad óptima de clusters"
   ]
  },
  {
   "cell_type": "markdown",
   "id": "4f7457c1",
   "metadata": {},
   "source": [
    "Calcularemos el \"Codo de Jambú\" para determinar el número óptimo de clusters según que tan similares son los elementos dentro de cada uno"
   ]
  },
  {
   "cell_type": "code",
   "execution_count": null,
   "id": "bee5d81b",
   "metadata": {},
   "outputs": [],
   "source": [
    "wcas = []\n",
    "\n",
    "for i in range(1,11):\n",
    "    kmeans = KMeans(n_clusters = i, max_iter = 300)\n",
    "    kmeans.fit(df_coffe_norm) #Aplico K-means al dataset\n",
    "    wcas.append(kmeans.inertia_)"
   ]
  },
  {
   "cell_type": "code",
   "execution_count": null,
   "id": "06dae988",
   "metadata": {},
   "outputs": [],
   "source": [
    "plt.plot(range(1,11),wcas)\n",
    "plt.title(\"Codo de Jambú\")\n",
    "plt.xlabel(\"Número de Clusters\")\n",
    "plt.ylabel(\"WCSS\") #WCSS es un indicador de qué tan similares son los elementos dentro de los clusters\n",
    "plt.show"
   ]
  },
  {
   "cell_type": "code",
   "execution_count": null,
   "id": "cd45f560",
   "metadata": {},
   "outputs": [],
   "source": [
    "def optimise_k_means(data,max_k):\n",
    "    means = []\n",
    "    inertias = []\n",
    "    \n",
    "    for k in range(1, max_k):\n",
    "        kmeans = KMeans(n_clusters=k)\n",
    "        kmeans.fit(data)\n",
    "        \n",
    "        means.append(k)\n",
    "        inertias.append(kmeans.inertia_)\n",
    "        \n",
    "    fig = plt.subplots(figsize=(10,5))\n",
    "    plt.plot(means, inertias, 'o-')\n",
    "    plt.xlabel('Número de Clusters')\n",
    "    plt.ylabel('WCSS')\n",
    "    plt.grid(True)\n",
    "    plt.show()"
   ]
  },
  {
   "cell_type": "code",
   "execution_count": null,
   "id": "81600639",
   "metadata": {},
   "outputs": [],
   "source": [
    "optimise_k_means(df_coffe_norm,10)"
   ]
  },
  {
   "cell_type": "markdown",
   "id": "675123ce",
   "metadata": {},
   "source": [
    "WCSS es la suma de las distancias cuadradas de cada punto al centroide de su cluster. Cuanto más bajo sea su valor, los elementos dentro de cada cluster están más cerca del centroide, lo que significa una mayor similitud entre ellos"
   ]
  },
  {
   "cell_type": "markdown",
   "id": "1f6bbdf9",
   "metadata": {},
   "source": [
    "La cantidad óptima de clusters se determina cuando se observa una disminución drástica del WCSS. A partir de cinco clústers, la disminución del WCSS se vuelve menos pronunciada en comparación con las etapas anteriores"
   ]
  },
  {
   "cell_type": "markdown",
   "id": "b1350b8a",
   "metadata": {},
   "source": [
    "La cantidad de cluster a utilizar será cinco"
   ]
  },
  {
   "cell_type": "markdown",
   "id": "9c04ca9a",
   "metadata": {},
   "source": [
    "## Aplicación del método Clustering K-Means al dataset de Maven Coffe"
   ]
  },
  {
   "cell_type": "code",
   "execution_count": null,
   "id": "1c56093f",
   "metadata": {},
   "outputs": [],
   "source": [
    "clustering = KMeans(n_clusters = 5, max_iter = 300) #Crea el modelo\n",
    "clustering.fit(df_coffe_norm) #Aplica el modelo al dataset"
   ]
  },
  {
   "cell_type": "code",
   "execution_count": null,
   "id": "0f246fa1",
   "metadata": {},
   "outputs": [],
   "source": [
    "KMeans(algorithm='auto',copy_x=True,init='k-means++',max_iter=300, n_clusters=5,n_init=10,n_jobs=None,precompute_distances='auto',random_state=None,tol=0.0001,verbose=0)"
   ]
  },
  {
   "cell_type": "code",
   "execution_count": null,
   "id": "9c7b3cea",
   "metadata": {},
   "outputs": [],
   "source": [
    "df_coffe_norm['KMeans_Clusters'] = clustering.labels_  # Agregamos la clasificación de cada elemento según el cluster al que pertenece\n",
    "df_coffe_norm.head()"
   ]
  },
  {
   "cell_type": "markdown",
   "id": "eb54efc4",
   "metadata": {},
   "source": [
    "### Visualización de los clusters"
   ]
  },
  {
   "cell_type": "markdown",
   "id": "67bebc3f",
   "metadata": {},
   "source": [
    "Se aplica el Análisis de Componentes Principales (PCA) para reducir la dimensionalidad y agrupar las características en la visualización"
   ]
  },
  {
   "cell_type": "code",
   "execution_count": null,
   "id": "7551a2ff",
   "metadata": {},
   "outputs": [],
   "source": [
    "from sklearn.decomposition import PCA\n",
    "\n",
    "pca = PCA(n_components=2)\n",
    "pca_coffe = pca.fit_transform(df_coffe_norm)\n",
    "pca_df_coffe = pd.DataFrame(data = pca_coffe, columns = ['Componente_1', 'Componente_2'])\n",
    "pca_df_coffe = pd.concat([pca_df_coffe,df_coffe_norm[['KMeans_Clusters']]], axis=1)\n",
    "\n",
    "pca_df_coffe"
   ]
  },
  {
   "cell_type": "code",
   "execution_count": null,
   "id": "c8e81266",
   "metadata": {},
   "outputs": [],
   "source": [
    "fig = plt.figure(figsize=(6,6))\n",
    "\n",
    "ax = fig.add_subplot(1,1,1)\n",
    "ax.set_xlabel('Componente 1', fontsize=15)\n",
    "ax.set_ylabel('Componente 2', fontsize=15)\n",
    "ax.set_title('Componentes Principales', fontsize=20)\n",
    "\n",
    "color_theme = np.array([\"blue\", \"green\", \"orange\",\"red\",\"purple\"])\n",
    "# Reducimos la opacidad y el tamaño de los puntos\n",
    "ax.scatter(x=pca_df_coffe.Componente_1, y=pca_df_coffe.Componente_2, \n",
    "           c=color_theme[pca_df_coffe.KMeans_Clusters], s=20, alpha=0.5)\n",
    "\n",
    "plt.show()"
   ]
  },
  {
   "cell_type": "markdown",
   "id": "ac74e051",
   "metadata": {},
   "source": [
    "## Interpretación de los resultados"
   ]
  },
  {
   "cell_type": "code",
   "execution_count": null,
   "id": "9939bf82",
   "metadata": {},
   "outputs": [],
   "source": [
    "# Mapeo de valores numéricos a texto\n",
    "mapeo_periodo = {\n",
    "    0: 'Mañana',\n",
    "    2.0: 'Tarde',\n",
    "    1.0: 'Noche'\n",
    "}\n",
    "\n",
    "mapeo_temporada = {\n",
    "    0: 'Invierno',\n",
    "    1: 'Primavera',\n",
    "    2: 'Verano',\n",
    "    3: 'Otoño'\n",
    "}\n",
    "\n",
    "# Revertir la conversión usando el diccionario\n",
    "df_coffe['periodo'] = df_coffe['periodo'].map(mapeo_periodo)\n",
    "df_coffe['temporada'] = df_coffe['temporada'].map(mapeo_temporada)\n",
    "\n"
   ]
  },
  {
   "cell_type": "code",
   "execution_count": null,
   "id": "dfe907ee",
   "metadata": {},
   "outputs": [],
   "source": [
    "df['periodo'] = df_coffe['periodo'] #agregamos al DataFrame original las columnas \"periodo\", \"temporada\" y \"KMeans_Clusters\"\n",
    "df['temporada'] = df_coffe['temporada']\n",
    "df['KMeans_Clusters'] = df_coffe_norm['KMeans_Clusters'] \n"
   ]
  },
  {
   "cell_type": "code",
   "execution_count": null,
   "id": "bca00e4d",
   "metadata": {},
   "outputs": [],
   "source": [
    "df"
   ]
  },
  {
   "cell_type": "code",
   "execution_count": null,
   "id": "596fc35e",
   "metadata": {},
   "outputs": [],
   "source": [
    "cluster_0 = df[df['KMeans_Clusters'] == 0]\n",
    "cluster_1 = df[df['KMeans_Clusters'] == 1]\n",
    "cluster_2 = df[df['KMeans_Clusters'] == 2]\n",
    "cluster_3 = df[df['KMeans_Clusters'] == 3]\n",
    "cluster_4 = df[df['KMeans_Clusters'] == 4]\n"
   ]
  },
  {
   "cell_type": "markdown",
   "id": "206c0b16",
   "metadata": {},
   "source": [
    "#### Cluster 0"
   ]
  },
  {
   "cell_type": "code",
   "execution_count": null,
   "id": "cd56f14b",
   "metadata": {},
   "outputs": [],
   "source": [
    "cluster_0"
   ]
  },
  {
   "cell_type": "markdown",
   "id": "cbe7384d",
   "metadata": {},
   "source": [
    "#### Cluster 1"
   ]
  },
  {
   "cell_type": "code",
   "execution_count": null,
   "id": "9a549020",
   "metadata": {},
   "outputs": [],
   "source": [
    "cluster_1"
   ]
  },
  {
   "cell_type": "markdown",
   "id": "3ddb711b",
   "metadata": {},
   "source": [
    "#### Cluster 2 "
   ]
  },
  {
   "cell_type": "code",
   "execution_count": null,
   "id": "3d33ca23",
   "metadata": {},
   "outputs": [],
   "source": [
    "cluster_2"
   ]
  },
  {
   "cell_type": "markdown",
   "id": "51da6a82",
   "metadata": {},
   "source": [
    "#### Cluster 3 "
   ]
  },
  {
   "cell_type": "code",
   "execution_count": null,
   "id": "54a724db",
   "metadata": {},
   "outputs": [],
   "source": [
    "cluster_3"
   ]
  },
  {
   "cell_type": "markdown",
   "id": "9d59b488",
   "metadata": {},
   "source": [
    "#### Cluster 4 "
   ]
  },
  {
   "cell_type": "code",
   "execution_count": null,
   "id": "3d02f5c0",
   "metadata": {},
   "outputs": [],
   "source": [
    "cluster_4"
   ]
  },
  {
   "cell_type": "markdown",
   "id": "b1168f6d",
   "metadata": {},
   "source": [
    "#### Resumen "
   ]
  },
  {
   "cell_type": "code",
   "execution_count": null,
   "id": "82e6f5c6",
   "metadata": {},
   "outputs": [],
   "source": [
    "cluster_summary = df.groupby('KMeans_Clusters').agg({\n",
    "    'store_location': lambda x: x.value_counts().index[0],  # Ubicación más común\n",
    "    'periodo': lambda x: x.value_counts().index[0],         # Hora más común\n",
    "    'temporada': lambda x: x.value_counts().index[0],# Temporada más común\n",
    "    'product_category': lambda x: x.value_counts().index[0],# Categoría más común\n",
    "    'transaction_id': 'count'                               # Cantidad de transacciones\n",
    "})\n"
   ]
  },
  {
   "cell_type": "code",
   "execution_count": null,
   "id": "8db59b87",
   "metadata": {},
   "outputs": [],
   "source": [
    "print(cluster_summary)"
   ]
  },
  {
   "cell_type": "markdown",
   "id": "044786f2",
   "metadata": {},
   "source": [
    "#### Gráfico de barras de transacciones por localidad de cada cluster"
   ]
  },
  {
   "cell_type": "code",
   "execution_count": null,
   "id": "8c62477b",
   "metadata": {},
   "outputs": [],
   "source": [
    "plt.figure(figsize=(12, 6))\n",
    "sns.countplot(data=df, x='KMeans_Clusters', hue='store_location')\n",
    "plt.title(\"Distribución de ubicaciones por cluster\")\n",
    "plt.show()"
   ]
  },
  {
   "cell_type": "markdown",
   "id": "304208a3",
   "metadata": {},
   "source": [
    "#### Gráfico de barras de transacciones por periodo de cada cluster"
   ]
  },
  {
   "cell_type": "code",
   "execution_count": null,
   "id": "f3849e9d",
   "metadata": {},
   "outputs": [],
   "source": [
    "plt.figure(figsize=(12, 6))\n",
    "sns.countplot(data=df, x='KMeans_Clusters', hue='periodo')\n",
    "plt.title(\"Distribución de periodos por cluster\")\n",
    "plt.show()"
   ]
  },
  {
   "cell_type": "markdown",
   "id": "d7542353",
   "metadata": {},
   "source": [
    "#### Gráfico de barras de transacciones por temporada de cada cluster"
   ]
  },
  {
   "cell_type": "code",
   "execution_count": null,
   "id": "efed4a12",
   "metadata": {},
   "outputs": [],
   "source": [
    "plt.figure(figsize=(12, 6))\n",
    "sns.countplot(data=df, x='KMeans_Clusters', hue='temporada')\n",
    "plt.title(\"Distribución de temporadas por cluster\")\n",
    "plt.show()"
   ]
  },
  {
   "cell_type": "markdown",
   "id": "4fc4e8d7",
   "metadata": {},
   "source": [
    "#### Gráfico de barras de transacciones por categoría de cada cluster"
   ]
  },
  {
   "cell_type": "code",
   "execution_count": null,
   "id": "376bc82d",
   "metadata": {},
   "outputs": [],
   "source": [
    "plt.figure(figsize=(12, 6))\n",
    "sns.countplot(data=df, x='KMeans_Clusters', hue='product_category')\n",
    "plt.title(\"Distribución de categorías por cluster\")\n",
    "plt.show()"
   ]
  },
  {
   "cell_type": "markdown",
   "id": "3da6b6d4",
   "metadata": {},
   "source": [
    "#### Insights"
   ]
  },
  {
   "cell_type": "markdown",
   "id": "c5be4aa5",
   "metadata": {},
   "source": [
    "##### Grupo A"
   ]
  },
  {
   "cell_type": "markdown",
   "id": "108429bc",
   "metadata": {},
   "source": [
    "- Suelen concurrir a las tres localidades, pero sobre todo a Lower Manhattan\n",
    "- Suelen ir a la mañana y poco a la noche\n",
    "- Tienen concurrencia todo el año, pero mayormente en primavera\n",
    "- Consumen mucho té y un poco de chocolate"
   ]
  },
  {
   "cell_type": "markdown",
   "id": "8a328aeb",
   "metadata": {},
   "source": [
    "##### Grupo B "
   ]
  },
  {
   "cell_type": "markdown",
   "id": "35c83c2d",
   "metadata": {},
   "source": [
    "- Concurren principalmente a la localidad de Lower Manhattan, pero también a Hell’s Kitchen. No van a Astoria\n",
    "- Suelen ir principalmente a la mañana y un poco a la noche\n",
    "- Tienen concurrencia todo el año, pero mayormente en primavera\n",
    "- Consumen mucho café y también bastante bakery, chocolatada y flavours"
   ]
  },
  {
   "cell_type": "markdown",
   "id": "f609e9f3",
   "metadata": {},
   "source": [
    "##### Grupo C"
   ]
  },
  {
   "cell_type": "markdown",
   "id": "0237634f",
   "metadata": {},
   "source": [
    "- Suelen concurrir a las tres localidades, pero sobre todo a Hell’s Kitchen\n",
    "- Suelen ir a la tarde y cada tanto a la noche. No van a la mañana\n",
    "- Tienen concurrencia todo el año, pero mayormente en primavera\n",
    "- Consumen mucho café, bastante bakery y chocolatada"
   ]
  },
  {
   "cell_type": "markdown",
   "id": "5f8642e1",
   "metadata": {},
   "source": [
    "##### Grupo D"
   ]
  },
  {
   "cell_type": "markdown",
   "id": "39a0551a",
   "metadata": {},
   "source": [
    "- Concurren principalmente a la localidad de Astoria, cada tanto van a Hell’s Kitchen. No van a Lower Manhattan\n",
    "- Suelen ir principalmente a la mañana y cada tanto a la noche. No van a la tarde\n",
    "- Tienen concurrencia todo el año, pero mayormente en primavera\n",
    "- Consumen mucho café, bastante bakery y cada tanto chocolatada"
   ]
  },
  {
   "cell_type": "markdown",
   "id": "0da568ca",
   "metadata": {},
   "source": [
    "##### Grupo E "
   ]
  },
  {
   "cell_type": "markdown",
   "id": "a70df771",
   "metadata": {},
   "source": [
    "- Suelen concurrir a las tres localidades, pero sobre todo a Astoria\n",
    "- Suelen ir principalmente a la tarde y cada tanto a la noche\n",
    "- Tienen concurrencia todo el año, pero mayormente en primavera\n",
    "- Consumen mucho té y un poco de chocolate"
   ]
  },
  {
   "cell_type": "markdown",
   "id": "2ffc4c71",
   "metadata": {},
   "source": [
    "##### Observaciones Generales"
   ]
  },
  {
   "cell_type": "markdown",
   "id": "46ae468f",
   "metadata": {},
   "source": [
    "- El grupo B no va a Astoria y el grupo D no va a Lower Manhattan. El resto suele ir a las tres localidades\n",
    "- Los grupos A, B y D suelen ir mucho a la mañana, cada tanto a la noche y no van a la tarde. En cambio, los grupos C y E van mucho a la tarde, cada tanto a la noche y no van a la mañana\n",
    "- En todos los grupos se tiene más concurrencia en primavera, le sigue invierno y luego verano\n",
    "- A nivel general, se suele consumir café, té, bakery, chocolatada y flavours"
   ]
  },
  {
   "cell_type": "code",
   "execution_count": null,
   "id": "867961ff",
   "metadata": {},
   "outputs": [],
   "source": []
  }
 ],
 "metadata": {
  "kernelspec": {
   "display_name": "Python 3 (ipykernel)",
   "language": "python",
   "name": "python3"
  },
  "language_info": {
   "codemirror_mode": {
    "name": "ipython",
    "version": 3
   },
   "file_extension": ".py",
   "mimetype": "text/x-python",
   "name": "python",
   "nbconvert_exporter": "python",
   "pygments_lexer": "ipython3",
   "version": "3.9.7"
  }
 },
 "nbformat": 4,
 "nbformat_minor": 5
}
